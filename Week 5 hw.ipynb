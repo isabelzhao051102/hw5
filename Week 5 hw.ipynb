{
 "cells": [
  {
   "cell_type": "markdown",
   "id": "30ebe360",
   "metadata": {},
   "source": [
    "2. \n",
    "For example, I want to find the average height of all the students in UofT. I start by measuring the height of my classmates. The heights that I record from this sample are represented by the symbol x with a small i. The average height of this sample group is the sample mean, which is the symbol of x with a line on top. My goal is to make a conclusion on the average height of all the students in UofT (the population mean), even though I do not have all the data of everyone. My assumption of this average is a specific number, this is called null hypothesis. The main point of this test is that I am making a conclusion for the average of all students in UofT, not just the students in my classroom. "
   ]
  },
  {
   "cell_type": "markdown",
   "id": "444027ad",
   "metadata": {},
   "source": [
    "4. \n",
    "P-value is used to determine how likely the data is, with the assumption that the null hypothesis is correct. When the p-value is very small, it means that the chance of seeing such extreme results is very low. This makes the null hypothesis very unbelievable, ridiculous. The smaller the p-value, the stronger the evidence against the null hypothesis, leading to a conclusion where the alternative hypothesis might be better. "
   ]
  },
  {
   "cell_type": "markdown",
   "id": "a6d701c8",
   "metadata": {},
   "source": [
    "8. Problem Introduction: \n",
    "In the original experiment, Dr. Muriel Bristol claimed that she could tell the difference between whether milk or tea was poured first. She proved herself by identifying 8 cups (4 with milk and 4 with tea) all correctly. In the STA130 experiment, a group of 80 students tested, 49 students correctly identified the pouring order. The difference between the two experiments are that the second one has a larger scale of sample size. \n",
    "\n",
    "Null Hypothesis: p = 0.5, where p is the proportion of students who correctly identify the pouring order. \n",
    "Alternative Hypothesis: p > 0.5"
   ]
  },
  {
   "cell_type": "code",
   "execution_count": 3,
   "id": "6c18a9e4",
   "metadata": {},
   "outputs": [
    {
     "name": "stdout",
     "output_type": "stream",
     "text": [
      "Test statistic (z-value): 2.0125\n",
      "P_value: 0.0221\n",
      "95% confidence interval for the proportion: (0.5057440726485105, 0.7192559273514896)\n"
     ]
    }
   ],
   "source": [
    "#8. Quantitative Analysis\n",
    "import numpy as np\n",
    "from scipy import stats\n",
    "\n",
    "n = 80\n",
    "correct_guess = 49\n",
    "p_hat = correct_guess / n\n",
    "p_0 = 0.5\n",
    "\n",
    "z = (p_hat - p_0) / np.sqrt((p_0 * (1 - p_0)) / n)\n",
    "p_value = 1 - stats.norm.cdf(z)\n",
    "\n",
    "print (f\"Test statistic (z-value): {z:.4f}\")\n",
    "print(f\"P_value: {p_value:.4f}\")\n",
    "\n",
    "conf_interval = stats.norm.interval(0.95, loc = p_hat, scale = np.sqrt(p_hat * (1 - p_hat) / n))\n",
    "print(f\"95% confidence interval for the proportion: {conf_interval}\")"
   ]
  },
  {
   "cell_type": "markdown",
   "id": "2b491b4e",
   "metadata": {},
   "source": [
    "8. Findings and Discussion\n",
    "Since the p-value of 0.0221 is less than 0.05, I have enough evidence to reject the null hypothesis. This indicates that the proportion of students who correctly identified whether tea or milk was poured first is greater than 50%. The 95% confidence interval for the true proportion of students who can correctly identify the order of pouring is (0.5057, 0.7193). Since 50% (0.5) is outside of this interval, this also supports the conclusion that more than half of the students in the sample were able to correctly identify the pouring order. "
   ]
  },
  {
   "cell_type": "markdown",
   "id": "c8f23e6e",
   "metadata": {},
   "source": [
    "Here is the link to the history chat logs with chatGPT: \n",
    "https://chatgpt.com/c/670ea841-8150-8011-86f6-b30115fd272a"
   ]
  }
 ],
 "metadata": {
  "kernelspec": {
   "display_name": "Python 3 (ipykernel)",
   "language": "python",
   "name": "python3"
  },
  "language_info": {
   "codemirror_mode": {
    "name": "ipython",
    "version": 3
   },
   "file_extension": ".py",
   "mimetype": "text/x-python",
   "name": "python",
   "nbconvert_exporter": "python",
   "pygments_lexer": "ipython3",
   "version": "3.11.6"
  }
 },
 "nbformat": 4,
 "nbformat_minor": 5
}
